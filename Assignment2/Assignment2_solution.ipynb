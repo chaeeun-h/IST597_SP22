{
  "cells": [
    {
      "cell_type": "markdown",
      "source": [
        "# Load the Libraries"
      ],
      "metadata": {
        "id": "QSpxufH1YIT4"
      }
    },
    {
      "cell_type": "code",
      "source": [
        "import os\n",
        "import numpy as np\n",
        "import time\n",
        "import tensorflow as tf\n",
        "import matplotlib.pyplot as plt\n",
        "# np.random.seed(9630)\n",
        "# tf.random.set_seed(9630)\n",
        "\n",
        "print(tf.__version__)"
      ],
      "metadata": {
        "id": "QdNCERYGYHXH",
        "colab": {
          "base_uri": "https://localhost:8080/"
        },
        "outputId": "11af4ada-a8de-4f9c-e35c-0a7abf96f444"
      },
      "execution_count": null,
      "outputs": [
        {
          "output_type": "stream",
          "name": "stdout",
          "text": [
            "2.7.0\n"
          ]
        }
      ]
    },
    {
      "cell_type": "code",
      "source": [
        "tf.config.list_physical_devices('GPU')"
      ],
      "metadata": {
        "colab": {
          "base_uri": "https://localhost:8080/"
        },
        "id": "v6atpVXqYXcv",
        "outputId": "7351c1bf-efd5-47b1-e098-59e2d88b1cf0"
      },
      "execution_count": null,
      "outputs": [
        {
          "output_type": "execute_result",
          "data": {
            "text/plain": [
              "[PhysicalDevice(name='/physical_device:GPU:0', device_type='GPU')]"
            ]
          },
          "metadata": {},
          "execution_count": 2
        }
      ]
    },
    {
      "cell_type": "markdown",
      "source": [
        "# Load data"
      ],
      "metadata": {
        "id": "sapeK1tmYqPz"
      }
    },
    {
      "cell_type": "code",
      "source": [
        "size_input = 784\n",
        "size_hidden = [128, 64]\n",
        "size_output = 10\n",
        "number_of_train_examples = 60000\n",
        "number_of_test_examples = 10000"
      ],
      "metadata": {
        "id": "PEVM3BpGYhu2"
      },
      "execution_count": null,
      "outputs": []
    },
    {
      "cell_type": "code",
      "source": [
        "# load datasets\n",
        "mnist = tf.keras.datasets.mnist\n",
        "fashion_mnist = tf.keras.datasets.fashion_mnist"
      ],
      "metadata": {
        "id": "AA-LjT7PYUxY"
      },
      "execution_count": null,
      "outputs": []
    },
    {
      "cell_type": "code",
      "source": [
        "def mnist_normalize():\n",
        "  (X_train, y_train), (X_test, y_test) = mnist.load_data()\n",
        "  X_train = np.reshape(X_train, (X_train.shape[0], 784)) / 255.\n",
        "  X_test = np.reshape(X_test, (X_test.shape[0], 784)) / 255.\n",
        "  y_train = tf.keras.utils.to_categorical(y_train)\n",
        "  y_test = tf.keras.utils.to_categorical(y_test)\n",
        "\n",
        "  return (X_train, y_train), (X_test, y_test)\n",
        "\n",
        "def fashion_normalize():\n",
        "  (X_train, y_train), (X_test, y_test) = fashion_mnist.load_data()\n",
        "  X_train = np.reshape(X_train, (X_train.shape[0], 784)) / 255.\n",
        "  X_test = np.reshape(X_test, (X_test.shape[0], 784)) / 255.\n",
        "  y_train = tf.keras.utils.to_categorical(y_train)\n",
        "  y_test = tf.keras.utils.to_categorical(y_test)\n",
        "\n",
        "  return (X_train, y_train), (X_test, y_test)"
      ],
      "metadata": {
        "id": "z5pBRvLYEgpv"
      },
      "execution_count": null,
      "outputs": []
    },
    {
      "cell_type": "code",
      "source": [
        "# Split dataset into batches\n",
        "# (X_train, y_train), (X_test, y_test) = mnist_normalize()\n",
        "(X_train, y_train), (X_test, y_test) = fashion_normalize()\n",
        "\n",
        "train_ds = tf.data.Dataset.from_tensor_slices((X_train, y_train)).batch(16)\n",
        "test_ds = tf.data.Dataset.from_tensor_slices((X_test, y_test)).batch(4)"
      ],
      "metadata": {
        "id": "cvDvnFHpY9yp",
        "colab": {
          "base_uri": "https://localhost:8080/"
        },
        "outputId": "069ee6bf-4bcd-4151-979f-39461d1dce6a"
      },
      "execution_count": null,
      "outputs": [
        {
          "output_type": "stream",
          "name": "stdout",
          "text": [
            "Downloading data from https://storage.googleapis.com/tensorflow/tf-keras-datasets/train-labels-idx1-ubyte.gz\n",
            "32768/29515 [=================================] - 0s 0us/step\n",
            "40960/29515 [=========================================] - 0s 0us/step\n",
            "Downloading data from https://storage.googleapis.com/tensorflow/tf-keras-datasets/train-images-idx3-ubyte.gz\n",
            "26427392/26421880 [==============================] - 0s 0us/step\n",
            "26435584/26421880 [==============================] - 0s 0us/step\n",
            "Downloading data from https://storage.googleapis.com/tensorflow/tf-keras-datasets/t10k-labels-idx1-ubyte.gz\n",
            "16384/5148 [===============================================================================================] - 0s 0us/step\n",
            "Downloading data from https://storage.googleapis.com/tensorflow/tf-keras-datasets/t10k-images-idx3-ubyte.gz\n",
            "4423680/4422102 [==============================] - 0s 0us/step\n",
            "4431872/4422102 [==============================] - 0s 0us/step\n"
          ]
        }
      ]
    },
    {
      "cell_type": "code",
      "source": [
        "# # Displaying images and labels of the batch\n",
        "\n",
        "# plt.figure(figsize = (10,10))\n",
        "# for i in range(25):\n",
        "#   plt.subplot(5, 5, i+1)\n",
        "#   plt.xticks([])\n",
        "#   plt.yticks([])\n",
        "#   plt.grid(False)\n",
        "#   plt.imshow(X_train[i], cmap = plt.cm.binary)\n",
        "#   plt.xlabel(y_train[i].item())\n",
        "\n",
        "# Not available after reshape from (60000,28,28) to (60000,784)"
      ],
      "metadata": {
        "id": "jJRl1D7P53YB"
      },
      "execution_count": null,
      "outputs": []
    },
    {
      "cell_type": "markdown",
      "source": [
        "# Build MLP Model\n"
      ],
      "metadata": {
        "id": "eqAUm8zM54ef"
      }
    },
    {
      "cell_type": "code",
      "source": [
        "# Define class to build MLP model\n",
        "class MLP(object):\n",
        "  def __init__(self, size_input, size_hidden, size_output, device = None):\n",
        "    \"\"\"\n",
        "    size_input: int, size of input layer\n",
        "    size_hidden: int, size of hidden layer (2)\n",
        "    size_output: int, size of output layer\n",
        "    device: str or None, either 'cpu' or 'gpu' or None. \n",
        "    If None, the device will automatically decide during Eager Execution ('gpu')\n",
        "    \"\"\"\n",
        "\n",
        "    self.size_input, self.size_hidden, self.size_output, self.device =\\\n",
        "    size_input, size_hidden, size_output, device\n",
        "\n",
        "    # Initialize weights between input layer and hidden layer 1\n",
        "    self.W0 = tf.Variable(tf.random.normal([self.size_input, self.size_input]))\n",
        "    # Initialize biases for hidden layer 1\n",
        "    self.b0 = tf.Variable(tf.random.normal([1, self.size_input]))\n",
        "    # Initialize weights between input layer and hidden layer 1\n",
        "    self.W1 = tf.Variable(tf.random.normal([self.size_input, self.size_hidden[0]]))\n",
        "    # Initialize biases for hidden layer 1\n",
        "    self.b1 = tf.Variable(tf.random.normal([1, self.size_hidden[0]]))\n",
        "    # Initialize weights between hidden layer 1 and hidden layer 2\n",
        "    self.W2 = tf.Variable(tf.random.normal([self.size_hidden[0], self.size_hidden[1]]))\n",
        "    # Initialize biases for hidden layer 2\n",
        "    self.b2 = tf.Variable(tf.random.normal([1, self.size_hidden[1]]))\n",
        "    # Initialize weights between hidden layer 2 and output layer\n",
        "    self.W3 = tf.Variable(tf.random.normal([self.size_hidden[1], self.size_output]))\n",
        "    # Initialize biases for output layer\n",
        "    self.b3 = tf.Variable(tf.random.normal([1, self.size_output]))\n",
        "\n",
        "    # Define variables to be updated during backpropagation\n",
        "    self.variables = [self.W0, self.W1, self.W2, self.W3, self.b0, self.b1, self.b2, self.b3]\n",
        "\n",
        "\n",
        "  def forward(self, X):\n",
        "    \"\"\"\n",
        "    forward pass\n",
        "    X: Tensor, inputs\n",
        "    \"\"\"\n",
        "\n",
        "    if self.device is not None:\n",
        "      with tf.device('gpu:0' if self.device == 'gpu' else 'cpu'):\n",
        "        self.y = self.compute_output(X)\n",
        "    else:\n",
        "      self.y = self.compute_output(X)\n",
        "    return self.y\n",
        "\n",
        "  def loss(self, y_pred, y_true):\n",
        "    \"\"\"\n",
        "    y_pred: Tensor of shape (batch_size, size_output)\n",
        "    y_true: Tensor of shape (batch_size, size_output)\n",
        "    \"\"\"\n",
        "\n",
        "    y_true_tf = tf.cast(tf.reshape(y_true, (-1, self.size_output)), dtype=tf.float32)\n",
        "    y_pred_tf = tf.cast(y_pred, dtype=tf.float32)\n",
        "    return tf.losses.mean_squared_error(y_true_tf, y_pred_tf)\n",
        "\n",
        "  def backward(self, X_train, y_train):\n",
        "    \"\"\"\n",
        "    backward pass\n",
        "    \"\"\"\n",
        "\n",
        "    optimizer = tf.keras.optimizers.SGD(learning_rate = 1e-3)\n",
        "    with tf.GradientTape() as tape:\n",
        "      predicted = self.forward(X_train)\n",
        "      current_loss = self.loss(predicted, y_train)\n",
        "    grads = tape.gradient(current_loss, self.variables)\n",
        "    optimizer.apply_gradients(zip(grads, self.variables))\n",
        "\n",
        "  def compute_output(self, X):\n",
        "    \"\"\"\n",
        "    Custom method to obtain output tensor during forward pass\n",
        "    \"\"\"\n",
        "\n",
        "    # Cast X to float 32\n",
        "    X_tf = tf.cast(X, dtype=tf.float32)\n",
        "    # Remember to normalize your dataset before moving forward\n",
        "\n",
        "    # Compute values in input layer\n",
        "    what0 = tf.matmul(X_tf, self.W0) + self.b0\n",
        "    hhat0 = tf.nn.relu(what0)\n",
        "\n",
        "    # Compute values in hidden layer 1\n",
        "    what1 = tf.matmul(what0, self.W1) + self.b1\n",
        "    hhat1 = tf.nn.relu(what1)\n",
        "\n",
        "    # Compute values in hidden layer 2\n",
        "    what2 = tf.matmul(hhat1, self.W2) + self.b2\n",
        "    hhat2 = tf.nn.relu(what2)\n",
        "\n",
        "    # Compute output\n",
        "    output = tf.matmul(hhat2, self.W3) + self.b3\n",
        "    output = tf.nn.softmax(output)\n",
        "\n",
        "    # Now consider two things\n",
        "    # First, look at inbuild loss functions if they work with softmax and then change this\n",
        "    # Second, add tf.Softmax(output) and then return this variable\n",
        "    return output"
      ],
      "metadata": {
        "id": "fn1tSxc2ZboL"
      },
      "execution_count": null,
      "outputs": []
    },
    {
      "cell_type": "markdown",
      "source": [
        "# Train Model"
      ],
      "metadata": {
        "id": "eZGW32Ukc5p4"
      }
    },
    {
      "cell_type": "code",
      "source": [
        "# Set number of epochs\n",
        "NUM_EPOCHS = 10"
      ],
      "metadata": {
        "id": "1venS-t8WIYg"
      },
      "execution_count": null,
      "outputs": []
    },
    {
      "cell_type": "code",
      "source": [
        "def compute_acc(y_pred, y_true):\n",
        "  maxid = lambda x: np.argmax(x)\n",
        "  y_pred_max = np.array([maxid(i) for i in y_pred])\n",
        "  y_true_max = np.array([maxid(j) for j in y_true])\n",
        "  acc = sum(y_pred_max == y_true_max) / len(y_pred_max)\n",
        "  return acc"
      ],
      "metadata": {
        "id": "Vkead2cUIOhS"
      },
      "execution_count": null,
      "outputs": []
    },
    {
      "cell_type": "code",
      "source": [
        "def compute_std(y_pred):\n",
        "  y_pred_tf = tf.cast(y_pred, dtype=tf.float32)\n",
        "  std_dev = np.std(y_pred_tf)\n",
        "  std_err = std_dev / np.sqrt(len(y_pred_tf))\n",
        "  variance = std_dev**2\n",
        "  return std_err, variance"
      ],
      "metadata": {
        "id": "rxEps86qnigl"
      },
      "execution_count": null,
      "outputs": []
    },
    {
      "cell_type": "code",
      "source": [
        "# Initialize model using GPU\n",
        "mlp_on_gpu = MLP(size_input, size_hidden, size_output, device = 'gpu')\n",
        "time_start = time.time()\n",
        "for epoch in range(NUM_EPOCHS):\n",
        "  loss_total = tf.zeros([1,1], dtype=tf.float32)\n",
        "  acc = 0\n",
        "  train_ds = tf.data.Dataset.from_tensor_slices((X_train, y_train)).shuffle(25, seed=epoch*(9630)).batch(40)\n",
        "  for inputs, outputs in train_ds:\n",
        "    preds = mlp_on_gpu.forward(inputs)\n",
        "    loss_total = loss_total + mlp_on_gpu.loss(preds, outputs)\n",
        "    mlp_on_gpu.backward(inputs, outputs)\n",
        "    acc = acc + compute_acc(preds, outputs)\n",
        "  print('Number of Epoch: {} - Average MSE: {}' .format(epoch + 1, np.sum(loss_total) / X_train.shape[0]))\n",
        "  print('                   - Accuracy: {}' .format(acc/len(train_ds)))\n",
        " \n",
        "time_taken = time.time() - time_start\n",
        "\n",
        "print('\\nTotal time taken (in seconds): {:.2f}'.format(time_taken))\n",
        "# For per epoch_time\n",
        "# epoch_time = Total time / Number of epochs"
      ],
      "metadata": {
        "colab": {
          "base_uri": "https://localhost:8080/"
        },
        "id": "tkBftPhndG4G",
        "outputId": "3b18ed45-6f9a-42d4-8585-32482139bec8"
      },
      "execution_count": null,
      "outputs": [
        {
          "output_type": "stream",
          "name": "stdout",
          "text": [
            "Number of Epoch: 1 - Average MSE: 0.18008072916666668\n",
            "                   - Accuracy: 0.09958333333333315\n",
            "Number of Epoch: 2 - Average MSE: 0.17982513020833332\n",
            "                   - Accuracy: 0.10086666666666663\n",
            "Number of Epoch: 3 - Average MSE: 0.17985094401041668\n",
            "                   - Accuracy: 0.10073333333333322\n",
            "Number of Epoch: 4 - Average MSE: 0.17990478515625\n",
            "                   - Accuracy: 0.10046666666666657\n",
            "Number of Epoch: 5 - Average MSE: 0.17992184244791667\n",
            "                   - Accuracy: 0.1003833333333332\n",
            "Number of Epoch: 6 - Average MSE: 0.17993863932291668\n",
            "                   - Accuracy: 0.10029999999999988\n",
            "Number of Epoch: 7 - Average MSE: 0.17942120768229167\n",
            "                   - Accuracy: 0.10288333333333331\n",
            "Number of Epoch: 8 - Average MSE: 0.17997537434895833\n",
            "                   - Accuracy: 0.10011666666666655\n",
            "Number of Epoch: 9 - Average MSE: 0.179975390625\n",
            "                   - Accuracy: 0.1001166666666666\n",
            "Number of Epoch: 10 - Average MSE: 0.179975390625\n",
            "                   - Accuracy: 0.10011666666666642\n",
            "\n",
            "Total time taken (in seconds): 585.50\n"
          ]
        }
      ]
    },
    {
      "cell_type": "markdown",
      "source": [
        "# One Step Inference"
      ],
      "metadata": {
        "id": "Pg__7V9ifjcY"
      }
    },
    {
      "cell_type": "code",
      "source": [
        "test_loss_total = tf.Variable(0, dtype=tf.float32)\n",
        "\n",
        "# test_loss_total = 0.0\n",
        "test_acc = 0\n",
        "for inputs, outputs in test_ds:\n",
        "  preds = mlp_on_gpu.forward(inputs)\n",
        "  # b = mlp_on_gpu.loss(preds, outputs)\n",
        "  test_loss_total = test_loss_total + mlp_on_gpu.loss(preds, outputs)\n",
        "  test_acc = test_acc + compute_acc(preds, outputs)\n",
        "  err, var = compute_std(preds)\n",
        "  \n",
        "# a = (test_loss_total.numpy() / X_train.shape[0])\n",
        "# print(X_train.shape[0])\n",
        "# print(test_loss_total.numpy())\n",
        "# print(b)\n",
        "print('Test MSE: {:.4f}'.format(np.sum(test_loss_total.numpy()) / X_test.shape[0]))\n",
        "print('Accuracy: {}' .format(test_acc/len(test_ds)))\n",
        "print('Standard Error: {}' .format(err))\n",
        "print('Variance: {}' .format(var))"
      ],
      "metadata": {
        "id": "R8slcjKmflnB",
        "colab": {
          "base_uri": "https://localhost:8080/"
        },
        "outputId": "89982ce5-92d6-402b-fc9a-7c95f82b414b"
      },
      "execution_count": null,
      "outputs": [
        {
          "output_type": "stream",
          "name": "stdout",
          "text": [
            "Test MSE: 0.1800\n",
            "Accuracy: 0.1002\n",
            "Standard Error: 0.14999999105930328\n",
            "Variance: 0.08999998927116426\n"
          ]
        }
      ]
    },
    {
      "cell_type": "markdown",
      "source": [
        "# 10 Trials - Fashion MNIST"
      ],
      "metadata": {
        "id": "iAth3qX5v7ne"
      }
    },
    {
      "cell_type": "code",
      "source": [
        "mse_fashion = []\n",
        "accuracy_fashion = []\n",
        "err_fashion = []\n",
        "var_fashion = []\n",
        "for i in range(10):\n",
        "  test_loss_total = tf.zeros([1,1], dtype=tf.float32)\n",
        "  test_acc = 0\n",
        "  test_err = 0\n",
        "  test_var = 0\n",
        "  test_ds = tf.data.Dataset.from_tensor_slices((X_test, y_test)).shuffle(25).batch(40)\n",
        "  for inputs, outputs in test_ds:\n",
        "    preds = mlp_on_gpu.forward(inputs)\n",
        "    test_loss_total = test_loss_total + mlp_on_gpu.loss(preds, outputs)\n",
        "    mlp_on_gpu.backward(inputs, outputs)\n",
        "    test_acc = test_acc + compute_acc(preds, outputs)\n",
        "    test_err = test_err + compute_std(preds)[0]\n",
        "    test_var = test_var + compute_std(preds)[1]\n",
        "  mse_fashion.append(np.sum(test_loss_total) / X_test.shape[0])\n",
        "  accuracy_fashion.append(test_acc/len(test_ds))\n",
        "  err_fashion.append(test_err/len(test_ds))\n",
        "  var_fashion.append(test_var/len(test_ds))\n",
        "  print('Number of Trial: {} - Average MSE: {}' .format(i + 1, np.sum(test_loss_total) / X_test.shape[0]))\n",
        "  print('                   - Accuracy: {}' .format(test_acc/len(test_ds)))\n",
        "  print('                   - Standard Error: {}' .format(test_err/len(test_ds)))\n",
        "  print('                   - Variance: {}' .format(test_var/len(test_ds)))\n",
        " \n",
        "print(mse_fashion)\n",
        "print(accuracy_fashion)\n",
        "time_taken = time.time() - time_start\n",
        "\n",
        "print('\\nTotal time taken (in seconds): {:.2f}'.format(time_taken))"
      ],
      "metadata": {
        "id": "oIVKcDhz0TB7"
      },
      "execution_count": null,
      "outputs": []
    },
    {
      "cell_type": "code",
      "source": [
        "# # print(np.mean(accuracy_fashion))\n",
        "# # print(np.var(accuracy_fashion))\n",
        "# plt.plot(accuracy_fashion, label = 'mean:0.4849, var:0.00001')\n",
        "# plt.legend(loc='upper right', bbox_to_anchor = (1,1.25))\n",
        "# plt.xlabel('Accuracy')\n",
        "# plt.ylabel('Count')\n",
        "# plt.title('Baseline - Fashion MNIST')\n",
        "# plt.show()"
      ],
      "metadata": {
        "id": "AosEmR8SHoWh"
      },
      "execution_count": null,
      "outputs": []
    },
    {
      "cell_type": "markdown",
      "source": [
        "# 10 Trials - MNIST"
      ],
      "metadata": {
        "id": "S7tIOs8Z7TBM"
      }
    },
    {
      "cell_type": "code",
      "source": [
        "mse_mnist = []\n",
        "accuracy_mnist = []\n",
        "err_mnist = []\n",
        "var_mnist = []\n",
        "for i in range(10):\n",
        "  test_loss_total = tf.zeros([1,1], dtype=tf.float32)\n",
        "  test_acc = 0\n",
        "  test_err = 0\n",
        "  test_var = 0\n",
        "  test_ds = tf.data.Dataset.from_tensor_slices((X_test, y_test)).shuffle(25).batch(40)\n",
        "  for inputs, outputs in test_ds:\n",
        "    preds = mlp_on_gpu.forward(inputs)\n",
        "    test_loss_total = test_loss_total + mlp_on_gpu.loss(preds, outputs)\n",
        "    mlp_on_gpu.backward(inputs, outputs)\n",
        "    test_acc = test_acc + compute_acc(preds, outputs)\n",
        "    test_err = test_err + compute_std(preds)[0]\n",
        "    test_var = test_var + compute_std(preds)[1]\n",
        "  mse_mnist.append(np.sum(test_loss_total) / X_test.shape[0])\n",
        "  accuracy_mnist.append(test_acc/len(test_ds))\n",
        "  err_mnist.append(test_err / len(test_ds))\n",
        "  var_mnist.append(test_var/len(test_ds))\n",
        "  print('Number of Trial: {} - Average MSE: {}' .format(i + 1, np.sum(test_loss_total) / X_test.shape[0]))\n",
        "  print('                   - Accuracy: {}' .format(test_acc/len(test_ds)))\n",
        "  print('                   - Standard Error: {}' .format(test_err/len(test_ds)))\n",
        "  print('                   - Variance: {}' .format(test_var/len(test_ds)))\n",
        "print(mse_mnist)\n",
        "print(accuracy_mnist)\n",
        "time_taken = time.time() - time_start\n",
        "\n",
        "print('\\nTotal time taken (in seconds): {:.2f}'.format(time_taken))"
      ],
      "metadata": {
        "colab": {
          "base_uri": "https://localhost:8080/"
        },
        "id": "k56ig-Nb6HrH",
        "outputId": "7ffd86e7-ca24-465f-9304-cf63c40051ba"
      },
      "execution_count": null,
      "outputs": [
        {
          "output_type": "stream",
          "name": "stdout",
          "text": [
            "Number of Trial: 1 - Average MSE: 0.092647802734375\n",
            "                   - Accuracy: 0.5355000000000001\n",
            "Number of Trial: 2 - Average MSE: 0.09240828247070312\n",
            "                   - Accuracy: 0.5367999999999997\n",
            "Number of Trial: 3 - Average MSE: 0.09261939086914063\n",
            "                   - Accuracy: 0.5355999999999999\n",
            "Number of Trial: 4 - Average MSE: 0.09212945556640625\n",
            "                   - Accuracy: 0.5385000000000001\n",
            "Number of Trial: 5 - Average MSE: 0.092047216796875\n",
            "                   - Accuracy: 0.5382\n",
            "Number of Trial: 6 - Average MSE: 0.0917481689453125\n",
            "                   - Accuracy: 0.5400000000000001\n",
            "Number of Trial: 7 - Average MSE: 0.090960986328125\n",
            "                   - Accuracy: 0.5439999999999998\n",
            "Number of Trial: 8 - Average MSE: 0.09108131103515625\n",
            "                   - Accuracy: 0.5434000000000001\n",
            "Number of Trial: 9 - Average MSE: 0.09114312744140625\n",
            "                   - Accuracy: 0.543\n",
            "Number of Trial: 10 - Average MSE: 0.09128525390625\n",
            "                   - Accuracy: 0.5422999999999998\n",
            "[0.092647802734375, 0.09240828247070312, 0.09261939086914063, 0.09212945556640625, 0.092047216796875, 0.0917481689453125, 0.090960986328125, 0.09108131103515625, 0.09114312744140625, 0.09128525390625]\n",
            "[0.5355000000000001, 0.5367999999999997, 0.5355999999999999, 0.5385000000000001, 0.5382, 0.5400000000000001, 0.5439999999999998, 0.5434000000000001, 0.543, 0.5422999999999998]\n",
            "\n",
            "Total time taken (in seconds): 1195.09\n"
          ]
        }
      ]
    },
    {
      "cell_type": "code",
      "source": [
        "# # print(np.mean(accuracy_mnist))\n",
        "# # print(np.var(accuracy_mnist))\n",
        "# plt.plot(accuracy_mnist, label = 'mean:0.54, var:0.0000096')\n",
        "# plt.legend(loc='upper right', bbox_to_anchor = (1,1.25))\n",
        "# plt.xlabel('Accuracy')\n",
        "# plt.ylabel('Count')\n",
        "# plt.title('Baseline - MNIST')\n",
        "# plt.show()"
      ],
      "metadata": {
        "id": "y678L8Vx-5gg"
      },
      "execution_count": null,
      "outputs": []
    },
    {
      "cell_type": "code",
      "source": [
        ""
      ],
      "metadata": {
        "id": "z7THymFVxP3n"
      },
      "execution_count": null,
      "outputs": []
    }
  ],
  "metadata": {
    "colab": {
      "collapsed_sections": [],
      "name": "Assignment2_solution.ipynb",
      "provenance": [],
      "machine_shape": "hm"
    },
    "kernelspec": {
      "display_name": "Python 3",
      "name": "python3"
    },
    "language_info": {
      "name": "python"
    }
  },
  "nbformat": 4,
  "nbformat_minor": 0
}