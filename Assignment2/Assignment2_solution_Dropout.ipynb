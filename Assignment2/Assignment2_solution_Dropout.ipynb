{
  "nbformat": 4,
  "nbformat_minor": 0,
  "metadata": {
    "colab": {
      "name": "Assignment2_solution_Dropout.ipynb",
      "provenance": [],
      "collapsed_sections": [],
      "machine_shape": "hm"
    },
    "kernelspec": {
      "name": "python3",
      "display_name": "Python 3"
    },
    "language_info": {
      "name": "python"
    },
    "accelerator": "GPU"
  },
  "cells": [
    {
      "cell_type": "code",
      "source": [
        "import os\n",
        "import numpy as np\n",
        "import time\n",
        "import tensorflow as tf\n",
        "import matplotlib.pyplot as plt\n",
        "\n",
        "from tensorflow import keras\n",
        "\n",
        "np.random.seed(9630)\n",
        "tf.random.set_seed(9630)\n",
        "\n",
        "print(tf.__version__)"
      ],
      "metadata": {
        "colab": {
          "base_uri": "https://localhost:8080/"
        },
        "id": "00YneN9y7o6I",
        "outputId": "ceaa051b-addf-4cc2-c222-0b6db09397d9"
      },
      "execution_count": 1,
      "outputs": [
        {
          "output_type": "stream",
          "name": "stdout",
          "text": [
            "2.8.0\n"
          ]
        }
      ]
    },
    {
      "cell_type": "code",
      "source": [
        "tf.config.list_physical_devices('GPU')"
      ],
      "metadata": {
        "colab": {
          "base_uri": "https://localhost:8080/"
        },
        "id": "cMV3N2qm7tUO",
        "outputId": "b2667391-7937-42f5-d7c1-bfffcc95f599"
      },
      "execution_count": 2,
      "outputs": [
        {
          "output_type": "execute_result",
          "data": {
            "text/plain": [
              "[PhysicalDevice(name='/physical_device:GPU:0', device_type='GPU')]"
            ]
          },
          "metadata": {},
          "execution_count": 2
        }
      ]
    },
    {
      "cell_type": "code",
      "source": [
        "# Load MNIST or FMNIST\n",
        "\n",
        "(X_train, y_train), (X_test, y_test) = tf.keras.datasets.mnist.load_data() \n",
        "(X_train, y_train), (X_test, y_test) = tf.keras.datasets.fashion_mnist.load_data()\n",
        "assert X_train.shape == (60000, 28, 28)\n",
        "assert X_test.shape == (10000, 28, 28)\n",
        "assert y_train.shape == (60000,)\n",
        "assert y_test.shape == (10000,)\n",
        "\n",
        "\n",
        "# Display randomly selected data\n",
        "indices = list(np.random.randint(X_train.shape[0],size=3))\n",
        "for i in range(3):\n",
        "    plt.subplot(1,3,i+1)\n",
        "    plt.imshow(X_train[indices[i]].reshape(28,28), cmap='gray', interpolation='none')\n",
        "    plt.title(\"Index {} Class {}\".format(indices[i], y_train[indices[i]]))\n",
        "    plt.tight_layout()"
      ],
      "metadata": {
        "colab": {
          "base_uri": "https://localhost:8080/",
          "height": 168
        },
        "id": "UQZDnRP8-DyK",
        "outputId": "aaff04c1-e849-4673-a7ab-d0c920116b39"
      },
      "execution_count": 19,
      "outputs": [
        {
          "output_type": "display_data",
          "data": {
            "image/png": "[encoded data removed]",
            "text/plain": [
              "<Figure size 432x288 with 3 Axes>"
            ]
          },
          "metadata": {
            "needs_background": "light"
          }
        }
      ]
    },
    {
      "cell_type": "code",
      "source": [
        "# Split train dataset into train and validation\n",
        "X_val = X_train[50000:60000]\n",
        "X_train = X_train[0:50000]\n",
        "y_val = y_train[50000:60000]\n",
        "y_train = y_train[0:50000]\n",
        "\n",
        "print(\"size of training set is\", str(X_train.shape[0]), \"samples\")\n",
        "print(\"every train example is\", str(X_train.shape[1]), \"by\", str(X_train.shape[2]))\n",
        "\n",
        "print(\"size of validation set is\", str(X_val.shape[0]), \"samples\")\n",
        "print(\"every validation example is\", str(X_val.shape[1]), \"by\", str(X_val.shape[2]))\n",
        "\n",
        "X_train = X_train.reshape(50000, 28*28)\n",
        "X_val = X_val.reshape(10000, 28*28)\n",
        "X_test = X_test.reshape(10000, 28*28)\n",
        "\n",
        "print(\"size of training set is\", str(X_train.shape[0]), \"samples\")\n",
        "print(\"every train example has\", str(X_train.shape[1]), \"features\")\n",
        "\n",
        "print(\"size of validation set is\", str(X_val.shape[0]), \"samples\")\n",
        "print(\"every validation example has\", str(X_val.shape[1]), \"features\")\n",
        "\n",
        "# Split dataset into batches\n",
        "#train_ds = tf.data.Dataset.from_tensor_slices((X_train, y_train)).batch(16)\n",
        "#test_ds = tf.data.Dataset.from_tensor_slices((X_test, y_test)).batch(4)"
      ],
      "metadata": {
        "colab": {
          "base_uri": "https://localhost:8080/"
        },
        "id": "P-2J_aap-bfK",
        "outputId": "5e260ddb-f504-453a-a525-b272d31d4243"
      },
      "execution_count": 20,
      "outputs": [
        {
          "output_type": "stream",
          "name": "stdout",
          "text": [
            "size of training set is 50000 samples\n",
            "every train example is 28 by 28\n",
            "size of validation set is 10000 samples\n",
            "every validation example is 28 by 28\n",
            "size of training set is 50000 samples\n",
            "every train example has 784 features\n",
            "size of validation set is 10000 samples\n",
            "every validation example has 784 features\n"
          ]
        }
      ]
    },
    {
      "cell_type": "code",
      "source": [
        "#Normalize Data\n",
        "\n",
        "X_train = X_train/255\n",
        "X_val = X_val/255\n",
        "X_test = X_test/255\n",
        "# X_train[0]\n",
        "np.max(X_train)"
      ],
      "metadata": {
        "colab": {
          "base_uri": "https://localhost:8080/"
        },
        "id": "qw5I1g-9-ebX",
        "outputId": "23e1f3c1-5fe5-4ce8-b730-5e4b35dd9fed"
      },
      "execution_count": 21,
      "outputs": [
        {
          "output_type": "execute_result",
          "data": {
            "text/plain": [
              "1.0"
            ]
          },
          "metadata": {},
          "execution_count": 21
        }
      ]
    },
    {
      "cell_type": "code",
      "source": [
        "size_input = X_train.shape[1]\n",
        "size_hidden = 128\n",
        "size_output = 10\n",
        "\n",
        "number_of_train_examples = X_train.shape[0]\n",
        "number_of_test_examples = X_test.shape[0]\n",
        "\n",
        "y_train = tf.keras.utils.to_categorical(y_train, num_classes=10) # Other function is tf.one_hot(y_train,depth=10)\n",
        "y_val = tf.keras.utils.to_categorical(y_val, num_classes=10)\n",
        "y_test = tf.keras.utils.to_categorical(y_test, num_classes=10)\n",
        "print(tf.shape(y_val))"
      ],
      "metadata": {
        "id": "1xrDz6XI7uvc",
        "colab": {
          "base_uri": "https://localhost:8080/"
        },
        "outputId": "6ad936bc-e8e5-46fa-9605-9b467a5d2486"
      },
      "execution_count": 22,
      "outputs": [
        {
          "output_type": "stream",
          "name": "stdout",
          "text": [
            "tf.Tensor([10000    10], shape=(2,), dtype=int32)\n"
          ]
        }
      ]
    },
    {
      "cell_type": "code",
      "source": [
        "# def mnist_normalize():\n",
        "#   (X_train, y_train), (X_test, y_test) = mnist.load_data()\n",
        "#   X_train = np.reshape(X_train, (X_train.shape[0], 784)) / 255.\n",
        "#   X_test = np.reshape(X_test, (X_test.shape[0], 784)) / 255.\n",
        "#   y_train = tf.keras.utils.to_categorical(y_train)\n",
        "#   y_test = tf.keras.utils.to_categorical(y_test)\n",
        "\n",
        "#   return (X_train, y_train), (X_test, y_test)\n",
        "\n",
        "# def fashion_normalize():\n",
        "#   (X_train, y_train), (X_test, y_test) = fashion_mnist.load_data()\n",
        "#   X_train = np.reshape(X_train, (X_train.shape[0], 784)) / 255.\n",
        "#   X_test = np.reshape(X_test, (X_test.shape[0], 784)) / 255.\n",
        "#   y_train = tf.keras.utils.to_categorical(y_train)\n",
        "#   y_test = tf.keras.utils.to_categorical(y_test)\n",
        "\n",
        "#   return (X_train, y_train), (X_test, y_test)"
      ],
      "metadata": {
        "id": "-syaVDuK7yI0"
      },
      "execution_count": 23,
      "outputs": []
    },
    {
      "cell_type": "code",
      "source": [
        "# Split dataset into batches\n",
        "# (X_train, y_train), (X_test, y_test) = mnist_normalize()\n",
        "# (X_train, y_train), (X_test, y_test) = fashion_normalize()\n",
        "\n",
        "# train_ds = tf.data.Dataset.from_tensor_slices((X_train, y_train)).batch(16)\n",
        "# test_ds = tf.data.Dataset.from_tensor_slices((X_test, y_test)).batch(4)"
      ],
      "metadata": {
        "id": "I0t-7bWu70xx"
      },
      "execution_count": 24,
      "outputs": []
    },
    {
      "cell_type": "code",
      "source": [
        "# Define class to build MLP model\n",
        "class MLP(object):\n",
        "  def __init__(self, size_input, size_hidden, size_output, device = None):\n",
        "    \"\"\"\n",
        "    size_input: int, size of input layer\n",
        "    size_hidden: int, size of hidden layer (2)\n",
        "    size_output: int, size of output layer\n",
        "    device: str or None, either 'cpu' or 'gpu' or None. \n",
        "    If None, the device will automatically decide during Eager Execution ('gpu')\n",
        "    \"\"\"\n",
        "\n",
        "    self.size_input, self.size_hidden, self.size_output, self.device =\\\n",
        "    size_input, size_hidden, size_output, device\n",
        "\n",
        "    # Initialize weights between input layer and hidden layer 1\n",
        "    self.W0 = tf.Variable(tf.random.normal([self.size_input, self.size_hidden], stddev=0.1))\n",
        "    # Initialize biases for hidden layer 1\n",
        "    self.b0 = tf.Variable(tf.random.normal([1, self.size_hidden]))\n",
        "\n",
        "    # # Initialize weights between input layer and hidden layer 1\n",
        "    self.W1 = tf.Variable(tf.random.normal([self.size_hidden, self.size_hidden], stddev=0.1))\n",
        "    # Initialize biases for hidden layer 1\n",
        "    self.b1 = tf.Variable(tf.random.normal([1, self.size_hidden]))\n",
        "\n",
        "    # Initialize weights between hidden layer 1 and hidden layer 2\n",
        "    self.W2 = tf.Variable(tf.random.normal([self.size_hidden, self.size_hidden], stddev=0.1))\n",
        "    # Initialize biases for hidden layer 2\n",
        "    self.b2 = tf.Variable(tf.random.normal([1, self.size_hidden]))\n",
        "\n",
        "    # Initialize weights between hidden layer 2 and output layer\n",
        "    self.W3 = tf.Variable(tf.random.normal([self.size_hidden, self.size_output], stddev=0.1))\n",
        "    # Initialize biases for output layer\n",
        "    self.b3 = tf.Variable(tf.random.normal([1, self.size_output]))\n",
        "\n",
        "    # Define variables to be updated during backpropagation\n",
        "    self.variables = [self.W0, self.W1, self.W2, self.W3, self.b0, self.b1, self.b2, self.b3]\n",
        "\n",
        "\n",
        "\n",
        "  def forward(self, X):\n",
        "    \"\"\"\n",
        "    forward pass\n",
        "    X: Tensor, inputs\n",
        "    \"\"\"\n",
        "\n",
        "    if self.device is not None:\n",
        "      with tf.device('gpu:0' if self.device == 'gpu' else 'cpu'):\n",
        "        self.y = self.compute_output(X)\n",
        "    else:\n",
        "      self.y = self.compute_output(X)\n",
        "    return self.y\n",
        "\n",
        "  def loss(self, y_pred, y_true):\n",
        "    \"\"\"\n",
        "    y_pred: Tensor of shape (batch_size, size_output)\n",
        "    y_true: Tensor of shape (batch_size, size_output)\n",
        "    \"\"\"\n",
        "\n",
        "    y_true_tf = tf.cast(tf.reshape(y_true, (-1, self.size_output)), dtype=tf.float32)\n",
        "    y_pred_tf = tf.cast(y_pred, dtype=tf.float32)\n",
        "    return tf.losses.mean_squared_error(y_true_tf, y_pred_tf)\n",
        "\n",
        "  # Dropout\n",
        "  def dropout(self, X_train, dropout_rate):\n",
        "    assert 0 <= dropout_rate <= 1\n",
        "    \n",
        "    if dropout_rate == 1: # In this case, all elements are dropped out\n",
        "      return tf.zeros_like(X_train)\n",
        "    elif dropout_rate == 0: # In this case, all elements are kept\n",
        "      return X_train\n",
        "    else:\n",
        "      mask = tf.random.uniform(shape=tf.shape(X_train), minval=0, maxval=1) < 1-dropout_rate\n",
        "      return tf.cast(mask, dtype=tf.float32) * X_train/(1.0-dropout_rate)\n",
        "\n",
        "  def backward(self, X_train, y_train):\n",
        "    \"\"\"\n",
        "    backward pass\n",
        "    \"\"\"\n",
        "\n",
        "    optimizer = tf.keras.optimizers.SGD(learning_rate = 1e-3)\n",
        "    with tf.GradientTape() as tape:\n",
        "      predicted = self.forward(X_train)\n",
        "      current_loss = self.loss(predicted, y_train)\n",
        "    grads = tape.gradient(current_loss, self.variables)\n",
        "    optimizer.apply_gradients(zip(grads, self.variables))\n",
        "\n",
        "  def compute_output(self, X):\n",
        "    \"\"\"\n",
        "    Custom method to obtain output tensor during forward pass\n",
        "    \"\"\"\n",
        "\n",
        "    # Cast X to float 32\n",
        "    X_tf = tf.cast(X, dtype=tf.float32)\n",
        "    # Remember to normalize your dataset before moving forward\n",
        "\n",
        "    # Compute values in input layer\n",
        "    what0 = tf.matmul((X_tf), self.W0) + self.b0\n",
        "    hhat0 = tf.nn.relu(what0)\n",
        "    dhat0 = self.dropout(hhat0, dropout_rate)\n",
        "\n",
        "    # Compute values in hidden layer 1\n",
        "    what1 = tf.matmul(dhat0, self.W1) + self.b1\n",
        "    hhat1 = tf.nn.relu(what1)\n",
        "    dhat1 = self.dropout(hhat1, dropout_rate)\n",
        "\n",
        "    # Compute values in hidden layer 2\n",
        "    what2 = tf.matmul(dhat1, self.W2) + self.b2\n",
        "    hhat2 = tf.nn.relu(what2)\n",
        "    dhat2 = self.dropout(hhat2, dropout_rate)\n",
        "\n",
        "    # Compute output\n",
        "    output = tf.matmul(dhat2, self.W3) + self.b3\n",
        "    output = tf.nn.softmax(output)\n",
        "\n",
        "    # Now consider two things\n",
        "    # First, look at inbuild loss functions if they work with softmax and then change this\n",
        "    # Second, add tf.Softmax(output) and then return this variable\n",
        "    return output"
      ],
      "metadata": {
        "id": "IXFkSE2l76Gr"
      },
      "execution_count": 30,
      "outputs": []
    },
    {
      "cell_type": "markdown",
      "source": [
        "# Train Model"
      ],
      "metadata": {
        "id": "b0Vk4d8A8GnF"
      }
    },
    {
      "cell_type": "code",
      "source": [
        "# Set number of epochs\n",
        "NUM_EPOCHS = 20"
      ],
      "metadata": {
        "id": "nvk0PZdU8HrP"
      },
      "execution_count": 26,
      "outputs": []
    },
    {
      "cell_type": "code",
      "source": [
        "# def compute_acc(y_pred, y_true):\n",
        "#   maxid = lambda x: np.argmax(x)\n",
        "#   y_pred_max = np.array([maxid(i) for i in y_pred])\n",
        "#   y_true_max = np.array([maxid(j) for j in y_true])\n",
        "#   acc = sum(y_pred_max == y_true_max)/len(y_pred_max)\n",
        "#   return acc"
      ],
      "metadata": {
        "id": "ocfcJNLX8NBY"
      },
      "execution_count": 27,
      "outputs": []
    },
    {
      "cell_type": "code",
      "source": [
        "# def compute_std(y_pred):\n",
        "#   y_pred_tf = tf.cast(y_pred, dtype=tf.float32)\n",
        "#   std_dev = np.std(y_pred_tf)\n",
        "#   std_err = std_dev / np.sqrt(len(y_pred_tf))\n",
        "#   variance = std_dev**2\n",
        "#   return std_err, variance"
      ],
      "metadata": {
        "id": "4w72baiRt1j5"
      },
      "execution_count": 28,
      "outputs": []
    },
    {
      "cell_type": "code",
      "source": [
        "# Initialize model using GPU\n",
        "\n",
        "dropout_rate = 0.2\n",
        "\n",
        "mlp_on_gpu = MLP(size_input, size_hidden, size_output, device = 'gpu')\n",
        "time_start = time.time()\n",
        "for epoch in range(NUM_EPOCHS):\n",
        "\n",
        "  loss_total = tf.zeros([1,1], dtype=tf.float32)\n",
        "  lt = 0\n",
        "\n",
        "  train_ds = tf.data.Dataset.from_tensor_slices((X_train, y_train)).shuffle(25, seed=epoch*(9630)).batch(40)\n",
        "  kz = 0\n",
        "  accuracy_z = 0.0\n",
        "  cur_train_acc = 0.0\n",
        "\n",
        "  for inputs, outputs in train_ds:\n",
        "    qw, tr = tf.shape(inputs)\n",
        "    kz = kz + 1\n",
        "    preds = mlp_on_gpu.forward(inputs)\n",
        "    loss_total = loss_total + mlp_on_gpu.loss(preds, outputs)\n",
        "    lt = lt + mlp_on_gpu.loss(preds, outputs)\n",
        "    mlp_on_gpu.backward(inputs, outputs)\n",
        "\n",
        "  preds = mlp_on_gpu.forward(X_train)\n",
        "  preds = tf.nn.softmax(preds)\n",
        "  correct_prediction = tf.equal(tf.argmax(preds, 1), tf.argmax(y_train, 1))\n",
        "  accuracy_z = accuracy_z + tf.reduce_mean(tf.cast(correct_prediction, 'float'))\n",
        "  cur_train_acc += accuracy_z.numpy()\n",
        "  ds = cur_train_acc\n",
        "  print('\\nTrain Accuracy: {}'.format(ds))\n",
        "  print('Number of Epoch = {} - Average Cross Entropy:= {} '.format(epoch + 1, np.sum(loss_total) / X_train.shape[0]))\n",
        "\n",
        "  preds_val = mlp_on_gpu.forward(X_val)\n",
        "  preds_val = tf.nn.softmax(preds_val)\n",
        "  correct_prediction = tf.equal(tf.argmax(preds_val, 1), tf.argmax(y_val, 1))\n",
        "\n",
        "  # Calculate accuracy\n",
        "  accuracy = tf.reduce_mean(tf.cast(correct_prediction, 'float'))\n",
        "  cur_val_acc = accuracy.numpy()\n",
        "\n",
        "  print('\\nValidation Accuracy: {:.4f}'.format(cur_val_acc))\n",
        "  plt.plot(epoch + 1, np.sum(loss_total) / X_train.shape[0], 'go')\n",
        " \n",
        "time_taken = time.time() - time_start\n",
        "\n",
        "print('\\nTotal time taken (in seconds): {:.2f}'.format(time_taken))\n",
        "# For per epoch_time\n",
        "# epoch_time = Total time / Number of epochs"
      ],
      "metadata": {
        "id": "1lIN3e-18UHg",
        "colab": {
          "base_uri": "https://localhost:8080/",
          "height": 1000
        },
        "outputId": "709bbaa4-106f-46e3-d6e2-2311bff2fc72"
      },
      "execution_count": 32,
      "outputs": [
        {
          "output_type": "stream",
          "name": "stdout",
          "text": [
            "\n",
            "Train Accuracy: 0.4821999967098236\n",
            "Number of Epoch = 1 - Average Cross Entropy:= 0.080536591796875 \n",
            "\n",
            "Validation Accuracy: 0.4902\n",
            "\n",
            "Train Accuracy: 0.5911200046539307\n",
            "Number of Epoch = 2 - Average Cross Entropy:= 0.058484716796875 \n",
            "\n",
            "Validation Accuracy: 0.5995\n",
            "\n",
            "Train Accuracy: 0.644760012626648\n",
            "Number of Epoch = 3 - Average Cross Entropy:= 0.049775498046875 \n",
            "\n",
            "Validation Accuracy: 0.6433\n",
            "\n",
            "Train Accuracy: 0.6722400188446045\n",
            "Number of Epoch = 4 - Average Cross Entropy:= 0.04523728515625 \n",
            "\n",
            "Validation Accuracy: 0.6715\n",
            "\n",
            "Train Accuracy: 0.6944599747657776\n",
            "Number of Epoch = 5 - Average Cross Entropy:= 0.0423681494140625 \n",
            "\n",
            "Validation Accuracy: 0.6937\n",
            "\n",
            "Train Accuracy: 0.707040011882782\n",
            "Number of Epoch = 6 - Average Cross Entropy:= 0.0402888720703125 \n",
            "\n",
            "Validation Accuracy: 0.7067\n",
            "\n",
            "Train Accuracy: 0.7209200263023376\n",
            "Number of Epoch = 7 - Average Cross Entropy:= 0.0385428662109375 \n",
            "\n",
            "Validation Accuracy: 0.7145\n",
            "\n",
            "Train Accuracy: 0.7340199947357178\n",
            "Number of Epoch = 8 - Average Cross Entropy:= 0.0374146484375 \n",
            "\n",
            "Validation Accuracy: 0.7294\n",
            "\n",
            "Train Accuracy: 0.7394599914550781\n",
            "Number of Epoch = 9 - Average Cross Entropy:= 0.03638552001953125 \n",
            "\n",
            "Validation Accuracy: 0.7328\n",
            "\n",
            "Train Accuracy: 0.7473199963569641\n",
            "Number of Epoch = 10 - Average Cross Entropy:= 0.03552727783203125 \n",
            "\n",
            "Validation Accuracy: 0.7444\n",
            "\n",
            "Train Accuracy: 0.7537599802017212\n",
            "Number of Epoch = 11 - Average Cross Entropy:= 0.03435809814453125 \n",
            "\n",
            "Validation Accuracy: 0.7516\n",
            "\n",
            "Train Accuracy: 0.7604399919509888\n",
            "Number of Epoch = 12 - Average Cross Entropy:= 0.0337254541015625 \n",
            "\n",
            "Validation Accuracy: 0.7577\n",
            "\n",
            "Train Accuracy: 0.7651000022888184\n",
            "Number of Epoch = 13 - Average Cross Entropy:= 0.032789697265625 \n",
            "\n",
            "Validation Accuracy: 0.7555\n",
            "\n",
            "Train Accuracy: 0.7698000073432922\n",
            "Number of Epoch = 14 - Average Cross Entropy:= 0.0323932275390625 \n",
            "\n",
            "Validation Accuracy: 0.7675\n",
            "\n",
            "Train Accuracy: 0.7762399911880493\n",
            "Number of Epoch = 15 - Average Cross Entropy:= 0.031685478515625 \n",
            "\n",
            "Validation Accuracy: 0.7707\n",
            "\n",
            "Train Accuracy: 0.7804399728775024\n",
            "Number of Epoch = 16 - Average Cross Entropy:= 0.0312103662109375 \n",
            "\n",
            "Validation Accuracy: 0.7751\n",
            "\n",
            "Train Accuracy: 0.7827000021934509\n",
            "Number of Epoch = 17 - Average Cross Entropy:= 0.0308188525390625 \n",
            "\n",
            "Validation Accuracy: 0.7730\n",
            "\n",
            "Train Accuracy: 0.7885199785232544\n",
            "Number of Epoch = 18 - Average Cross Entropy:= 0.03020817138671875 \n",
            "\n",
            "Validation Accuracy: 0.7767\n",
            "\n",
            "Train Accuracy: 0.7909799814224243\n",
            "Number of Epoch = 19 - Average Cross Entropy:= 0.029765810546875 \n",
            "\n",
            "Validation Accuracy: 0.7830\n",
            "\n",
            "Train Accuracy: 0.7928799986839294\n",
            "Number of Epoch = 20 - Average Cross Entropy:= 0.02935923828125 \n",
            "\n",
            "Validation Accuracy: 0.7867\n",
            "\n",
            "Total time taken (in seconds): 401.90\n"
          ]
        },
        {
          "output_type": "display_data",
          "data": {
            "image/png": "[encoded data removed]",
            "text/plain": [
              "<Figure size 432x288 with 1 Axes>"
            ]
          },
          "metadata": {
            "needs_background": "light"
          }
        }
      ]
    },
    {
      "cell_type": "markdown",
      "source": [
        "#Test Model"
      ],
      "metadata": {
        "id": "zxakuden8Y1R"
      }
    },
    {
      "cell_type": "code",
      "source": [
        "test_loss_total = tf.Variable(0, dtype=tf.float32)\n",
        "correct_prediction = tf.Variable(0, dtype=tf.float32)\n",
        "\n",
        "test_ds = tf.data.Dataset.from_tensor_slices((X_test, y_test)).batch(4)\n",
        "\n",
        "# test_loss_total = 0.0\n",
        "dropout_rate = 0.0\n",
        "\n",
        "for inputs, outputs in test_ds:\n",
        "  preds = mlp_on_gpu.forward(inputs)\n",
        "  # b = mlp_on_gpu.loss(preds, outputs)\n",
        "  test_loss_total = test_loss_total + mlp_on_gpu.loss(preds, outputs)\n",
        "print('Test loss: {:.4f}'.format(np.sum(test_loss_total.numpy()) / X_test.shape[0]))\n",
        "\n",
        "\n",
        "# Test model\n",
        "preds_test = mlp_on_gpu.forward(X_test)\n",
        "preds_test = tf.nn.softmax(preds_test)\n",
        "correct_prediction = tf.equal(tf.argmax(preds_test, 1), tf.argmax(y_test, 1))\n",
        "\n",
        "\n",
        "# Calculate accuracy\n",
        "accuracy = tf.reduce_mean(tf.cast(correct_prediction, \"float\"))\n",
        "cur_test_acc = accuracy.numpy()\n",
        "print('\\nTest Accuracy: {:.2f}'.format(cur_test_acc))\n",
        "# a = (test_loss_total.numpy() / X_train.shape[0])\n",
        "# print(X_train.shape[0])\n",
        "# print(test_loss_total.numpy())\n",
        "# print(b)"
      ],
      "metadata": {
        "id": "xYgreq5Y8a5F",
        "colab": {
          "base_uri": "https://localhost:8080/"
        },
        "outputId": "873f231e-28d0-4d5a-a99d-afa9d9412256"
      },
      "execution_count": 33,
      "outputs": [
        {
          "output_type": "stream",
          "name": "stdout",
          "text": [
            "Test loss: 0.0258\n",
            "\n",
            "Test Accuracy: 0.81\n"
          ]
        }
      ]
    },
    {
      "cell_type": "code",
      "source": [
        ""
      ],
      "metadata": {
        "id": "8q4ri9EtWlLa"
      },
      "execution_count": null,
      "outputs": []
    }
  ]
}