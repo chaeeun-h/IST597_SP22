{
  "nbformat": 4,
  "nbformat_minor": 0,
  "metadata": {
    "colab": {
      "name": "Assignment2_solution_Dropout.ipynb",
      "provenance": [],
      "collapsed_sections": [],
      "machine_shape": "hm"
    },
    "kernelspec": {
      "name": "python3",
      "display_name": "Python 3"
    },
    "language_info": {
      "name": "python"
    },
    "accelerator": "GPU"
  },
  "cells": [
    {
      "cell_type": "code",
      "source": [
        "import os\n",
        "import numpy as np\n",
        "import time\n",
        "import tensorflow as tf\n",
        "import matplotlib.pyplot as plt\n",
        "np.random.seed(9630)\n",
        "tf.random.set_seed(9630)\n",
        "\n",
        "print(tf.__version__)"
      ],
      "metadata": {
        "colab": {
          "base_uri": "https://localhost:8080/"
        },
        "id": "00YneN9y7o6I",
        "outputId": "a87ba3cf-0af8-4d43-a394-8048529dc34b"
      },
      "execution_count": null,
      "outputs": [
        {
          "output_type": "stream",
          "name": "stdout",
          "text": [
            "2.7.0\n"
          ]
        }
      ]
    },
    {
      "cell_type": "code",
      "source": [
        "tf.config.list_physical_devices('GPU')"
      ],
      "metadata": {
        "colab": {
          "base_uri": "https://localhost:8080/"
        },
        "id": "cMV3N2qm7tUO",
        "outputId": "9e4dd09f-307b-4bd4-afd8-1376e66f0f21"
      },
      "execution_count": null,
      "outputs": [
        {
          "output_type": "execute_result",
          "data": {
            "text/plain": [
              "[PhysicalDevice(name='/physical_device:GPU:0', device_type='GPU')]"
            ]
          },
          "metadata": {},
          "execution_count": 2
        }
      ]
    },
    {
      "cell_type": "code",
      "source": [
        "size_input = 784\n",
        "size_hidden = [128, 64]\n",
        "size_output = 10\n",
        "number_of_train_examples = 60000\n",
        "number_of_test_examples = 10000"
      ],
      "metadata": {
        "id": "1xrDz6XI7uvc"
      },
      "execution_count": null,
      "outputs": []
    },
    {
      "cell_type": "code",
      "source": [
        "# load datasets\n",
        "mnist = tf.keras.datasets.mnist\n",
        "fashion_mnist = tf.keras.datasets.fashion_mnist"
      ],
      "metadata": {
        "id": "vDJwlQGe7wO_"
      },
      "execution_count": null,
      "outputs": []
    },
    {
      "cell_type": "code",
      "source": [
        "def mnist_normalize():\n",
        "  (X_train, y_train), (X_test, y_test) = mnist.load_data()\n",
        "  X_train = np.reshape(X_train, (X_train.shape[0], 784)) / 255.\n",
        "  X_test = np.reshape(X_test, (X_test.shape[0], 784)) / 255.\n",
        "  y_train = tf.keras.utils.to_categorical(y_train)\n",
        "  y_test = tf.keras.utils.to_categorical(y_test)\n",
        "\n",
        "  return (X_train, y_train), (X_test, y_test)\n",
        "\n",
        "def fashion_normalize():\n",
        "  (X_train, y_train), (X_test, y_test) = fashion_mnist.load_data()\n",
        "  X_train = np.reshape(X_train, (X_train.shape[0], 784)) / 255.\n",
        "  X_test = np.reshape(X_test, (X_test.shape[0], 784)) / 255.\n",
        "  y_train = tf.keras.utils.to_categorical(y_train)\n",
        "  y_test = tf.keras.utils.to_categorical(y_test)\n",
        "\n",
        "  return (X_train, y_train), (X_test, y_test)"
      ],
      "metadata": {
        "id": "-syaVDuK7yI0"
      },
      "execution_count": null,
      "outputs": []
    },
    {
      "cell_type": "code",
      "source": [
        "# Split dataset into batches\n",
        "(X_train, y_train), (X_test, y_test) = mnist_normalize()\n",
        "# (X_train, y_train), (X_test, y_test) = fashion_normalize()\n",
        "\n",
        "train_ds = tf.data.Dataset.from_tensor_slices((X_train, y_train)).batch(16)\n",
        "test_ds = tf.data.Dataset.from_tensor_slices((X_test, y_test)).batch(4)"
      ],
      "metadata": {
        "colab": {
          "base_uri": "https://localhost:8080/"
        },
        "id": "I0t-7bWu70xx",
        "outputId": "ddf8af5e-7c98-4cbb-af63-fe122e91e4cc"
      },
      "execution_count": null,
      "outputs": [
        {
          "output_type": "stream",
          "name": "stdout",
          "text": [
            "Downloading data from https://storage.googleapis.com/tensorflow/tf-keras-datasets/mnist.npz\n",
            "11493376/11490434 [==============================] - 0s 0us/step\n",
            "11501568/11490434 [==============================] - 0s 0us/step\n"
          ]
        }
      ]
    },
    {
      "cell_type": "code",
      "source": [
        "# Define class to build MLP model\n",
        "class MLP(object):\n",
        "  def __init__(self, size_input, size_hidden, size_output, device = None):\n",
        "    \"\"\"\n",
        "    size_input: int, size of input layer\n",
        "    size_hidden: int, size of hidden layer (2)\n",
        "    size_output: int, size of output layer\n",
        "    device: str or None, either 'cpu' or 'gpu' or None. \n",
        "    If None, the device will automatically decide during Eager Execution ('gpu')\n",
        "    \"\"\"\n",
        "\n",
        "    self.size_input, self.size_hidden, self.size_output, self.device =\\\n",
        "    size_input, size_hidden, size_output, device\n",
        "\n",
        "    # Initialize weights between input layer and hidden layer 1\n",
        "    self.W0 = tf.Variable(tf.random.normal([self.size_input, self.size_input]))\n",
        "    # Initialize biases for hidden layer 1\n",
        "    self.b0 = tf.Variable(tf.random.normal([1, self.size_input]))\n",
        "    # Initialize weights between input layer and hidden layer 1\n",
        "    self.W1 = tf.Variable(tf.random.normal([self.size_input, self.size_hidden[0]]))\n",
        "    # Initialize biases for hidden layer 1\n",
        "    self.b1 = tf.Variable(tf.random.normal([1, self.size_hidden[0]]))\n",
        "    # Initialize weights between hidden layer 1 and hidden layer 2\n",
        "    self.W2 = tf.Variable(tf.random.normal([self.size_hidden[0], self.size_hidden[1]]))\n",
        "    # Initialize biases for hidden layer 2\n",
        "    self.b2 = tf.Variable(tf.random.normal([1, self.size_hidden[1]]))\n",
        "    # Initialize weights between hidden layer 2 and output layer\n",
        "    self.W3 = tf.Variable(tf.random.normal([self.size_hidden[1], self.size_output]))\n",
        "    # Initialize biases for output layer\n",
        "    self.b3 = tf.Variable(tf.random.normal([1, self.size_output]))\n",
        "\n",
        "    # Define variables to be updated during backpropagation\n",
        "    self.variables = [self.W0, self.W1, self.W2, self.W3, self.b0, self.b1, self.b2, self.b3]\n",
        "\n",
        "\n",
        "\n",
        "  def forward(self, X):\n",
        "    \"\"\"\n",
        "    forward pass\n",
        "    X: Tensor, inputs\n",
        "    \"\"\"\n",
        "\n",
        "    if self.device is not None:\n",
        "      with tf.device('gpu:0' if self.device == 'gpu' else 'cpu'):\n",
        "        self.y = self.compute_output(X)\n",
        "    else:\n",
        "      self.y = self.compute_output(X)\n",
        "    return self.y\n",
        "\n",
        "  def loss(self, y_pred, y_true):\n",
        "    \"\"\"\n",
        "    y_pred: Tensor of shape (batch_size, size_output)\n",
        "    y_true: Tensor of shape (batch_size, size_output)\n",
        "    \"\"\"\n",
        "\n",
        "    y_true_tf = tf.cast(tf.reshape(y_true, (-1, self.size_output)), dtype=tf.float32)\n",
        "    y_pred_tf = tf.cast(y_pred, dtype=tf.float32)\n",
        "    return tf.losses.mean_squared_error(y_true_tf, y_pred_tf)\n",
        "\n",
        "  # Dropout\n",
        "  def dropout(self, X_train, dropout_rate):\n",
        "    assert 0 <= dropout_rate <= 1\n",
        "    \n",
        "    if dropout_rate == 1: # In this case, all elements are dropped out\n",
        "      return tf.zeros_like(X_train)\n",
        "    elif dropout_rate == 0: # In this case, all elements are kept\n",
        "      return X_train\n",
        "    else:\n",
        "      mask = tf.random.uniform(shape=tf.shape(X_train), minval=0, maxval=1) < 1-dropout_rate\n",
        "      return tf.cast(mask, dtype=tf.float32) * X_train/(1.0-dropout_rate)\n",
        "\n",
        "  def backward(self, X_train, y_train):\n",
        "    \"\"\"\n",
        "    backward pass\n",
        "    \"\"\"\n",
        "\n",
        "    optimizer = tf.keras.optimizers.SGD(learning_rate = 1e-3)\n",
        "    with tf.GradientTape() as tape:\n",
        "      predicted = self.forward(X_train)\n",
        "      current_loss = self.loss(predicted, y_train)\n",
        "    grads = tape.gradient(current_loss, self.variables)\n",
        "    optimizer.apply_gradients(zip(grads, self.variables))\n",
        "\n",
        "  def compute_output(self, X):\n",
        "    \"\"\"\n",
        "    Custom method to obtain output tensor during forward pass\n",
        "    \"\"\"\n",
        "\n",
        "    # Cast X to float 32\n",
        "    X_tf = tf.cast(X, dtype=tf.float32)\n",
        "    # Remember to normalize your dataset before moving forward\n",
        "\n",
        "    # Compute values in input layer\n",
        "    what0 = tf.matmul(X_tf), self.W0) + self.b0\n",
        "    hhat0 = tf.nn.relu(what0)\n",
        "    dhat0 = self.dropout(hhat0, 0.2)\n",
        "\n",
        "    # Compute values in hidden layer 1\n",
        "    what1 = tf.matmul(dhat0, self.W1) + self.b1\n",
        "    hhat1 = tf.nn.relu(what1)\n",
        "    dhat1 = self.dropout(hhat1, 0.5)\n",
        "\n",
        "    # Compute values in hidden layer 2\n",
        "    what2 = tf.matmul(dhat1, self.W2) + self.b2\n",
        "    hhat2 = tf.nn.relu(what2)\n",
        "    dhat2 = self.dropout(hhat2, 0.5)\n",
        "\n",
        "    # Compute output\n",
        "    output = tf.matmul(dhat2, self.W3) + self.b3\n",
        "    output = tf.nn.softmax(output)\n",
        "\n",
        "    # Now consider two things\n",
        "    # First, look at inbuild loss functions if they work with softmax and then change this\n",
        "    # Second, add tf.Softmax(output) and then return this variable\n",
        "    return output"
      ],
      "metadata": {
        "id": "IXFkSE2l76Gr"
      },
      "execution_count": null,
      "outputs": []
    },
    {
      "cell_type": "markdown",
      "source": [
        "# Train Model"
      ],
      "metadata": {
        "id": "b0Vk4d8A8GnF"
      }
    },
    {
      "cell_type": "code",
      "source": [
        "# Set number of epochs\n",
        "NUM_EPOCHS = 20"
      ],
      "metadata": {
        "id": "nvk0PZdU8HrP"
      },
      "execution_count": null,
      "outputs": []
    },
    {
      "cell_type": "code",
      "source": [
        "def compute_acc(y_pred, y_true):\n",
        "  maxid = lambda x: np.argmax(x)\n",
        "  y_pred_max = np.array([maxid(i) for i in y_pred])\n",
        "  y_true_max = np.array([maxid(j) for j in y_true])\n",
        "  acc = sum(y_pred_max == y_true_max)/len(y_pred_max)\n",
        "  return acc"
      ],
      "metadata": {
        "id": "ocfcJNLX8NBY"
      },
      "execution_count": null,
      "outputs": []
    },
    {
      "cell_type": "code",
      "source": [
        "def compute_std(y_pred):\n",
        "  y_pred_tf = tf.cast(y_pred, dtype=tf.float32)\n",
        "  std_dev = np.std(y_pred_tf)\n",
        "  std_err = std_dev / np.sqrt(len(y_pred_tf))\n",
        "  variance = std_dev**2\n",
        "  return std_err, variance"
      ],
      "metadata": {
        "id": "4w72baiRt1j5"
      },
      "execution_count": null,
      "outputs": []
    },
    {
      "cell_type": "code",
      "source": [
        "# Initialize model using GPU\n",
        "# with Dropout\n",
        "mlp_on_gpu = MLP(size_input, size_hidden, size_output, device = 'gpu')\n",
        "time_start = time.time()\n",
        "for epoch in range(NUM_EPOCHS):\n",
        "  loss_total = tf.zeros([1,1], dtype=tf.float32)\n",
        "  acc = 0\n",
        "  train_ds = tf.data.Dataset.from_tensor_slices((X_train, y_train)).shuffle(25, seed=epoch*(9630)).batch(40)\n",
        "  for inputs, outputs in train_ds:\n",
        "    preds = mlp_on_gpu.forward(inputs)\n",
        "    loss_total = loss_total + mlp_on_gpu.loss(preds, outputs)\n",
        "    mlp_on_gpu.backward(inputs, outputs)\n",
        "    acc = acc + compute_acc(preds, outputs)\n",
        "  print('Number of Epoch: {} - Average MSE: {}' .format(epoch + 1, np.sum(loss_total) / X_train.shape[0]))\n",
        "  print('                   - Accuracy: {}' .format(acc/len(train_ds)))\n",
        " \n",
        "time_taken = time.time() - time_start\n",
        "\n",
        "print('\\nTotal time taken (in seconds): {:.2f}'.format(time_taken))\n",
        "# For per epoch_time\n",
        "# epoch_time = Total time / Number of epochs"
      ],
      "metadata": {
        "id": "1lIN3e-18UHg"
      },
      "execution_count": null,
      "outputs": []
    },
    {
      "cell_type": "markdown",
      "source": [
        "#Test Model"
      ],
      "metadata": {
        "id": "zxakuden8Y1R"
      }
    },
    {
      "cell_type": "code",
      "source": [
        "test_loss_total = tf.Variable(0, dtype=tf.float32)\n",
        "\n",
        "# test_loss_total = 0.0\n",
        "test_acc = 0\n",
        "for inputs, outputs in test_ds:\n",
        "  preds = mlp_on_gpu.forward(inputs)\n",
        "  # b = mlp_on_gpu.loss(preds, outputs)\n",
        "  test_loss_total = test_loss_total + mlp_on_gpu.loss(preds, outputs)\n",
        "  test_acc = test_acc + compute_acc(preds, outputs)\n",
        "  \n",
        "# a = (test_loss_total.numpy() / X_train.shape[0])\n",
        "# print(X_train.shape[0])\n",
        "# print(test_loss_total.numpy())\n",
        "# print(b)\n",
        "print('Test MSE: {:.4f}'.format(np.sum(test_loss_total.numpy()) / X_test.shape[0]))\n",
        "print('Accuracy: {}' .format(test_acc/len(test_ds)))"
      ],
      "metadata": {
        "id": "xYgreq5Y8a5F"
      },
      "execution_count": null,
      "outputs": []
    },
    {
      "cell_type": "markdown",
      "source": [
        "# 10 Trials - Fasion MNIST"
      ],
      "metadata": {
        "id": "hXa6xWVL8OFj"
      }
    },
    {
      "cell_type": "code",
      "source": [
        "# mse_fashion = []\n",
        "# accuracy_fashion = []\n",
        "# err_fashion = []\n",
        "# var_fashion = []\n",
        "# for i in range(10):\n",
        "#   test_loss_total = tf.zeros([1,1], dtype=tf.float32)\n",
        "#   test_acc = 0\n",
        "#   test_err = 0\n",
        "#   test_var = 0\n",
        "#   test_ds = tf.data.Dataset.from_tensor_slices((X_test, y_test)).shuffle(25).batch(40)\n",
        "#   for inputs, outputs in test_ds:\n",
        "#     preds = mlp_on_gpu.forward(inputs)\n",
        "#     test_loss_total = test_loss_total + mlp_on_gpu.loss(preds, outputs)\n",
        "#     mlp_on_gpu.backward(inputs, outputs)\n",
        "#     test_acc = test_acc + compute_acc(preds, outputs)\n",
        "#     test_err = test_err + compute_std(preds)[0]\n",
        "#     test_var = test_var + compute_std(preds)[1]\n",
        "#   mse_fashion.append(np.sum(test_loss_total) / X_test.shape[0])\n",
        "#   accuracy_fashion.append(test_acc/len(test_ds))\n",
        "#   err_fashion.append(test_err/len(test_ds))\n",
        "#   var_fashion.append(test_var/len(test_ds))\n",
        "#   print('Number of Trial: {} - Average MSE: {}' .format(i + 1, np.sum(test_loss_total) / X_test.shape[0]))\n",
        "#   print('                   - Accuracy: {}' .format(test_acc/len(test_ds)))\n",
        "#   print('                   - Standard Error: {}' .format(test_err/len(test_ds)))\n",
        "#   print('                   - Variance: {}' .format(test_var/len(test_ds)))\n",
        "# print(mse_fashion)\n",
        "# print(accuracy_fashion)\n",
        "# time_taken = time.time() - time_start\n",
        "\n",
        "# print('\\nTotal time taken (in seconds): {:.2f}'.format(time_taken))"
      ],
      "metadata": {
        "id": "6WrO4zpzdRyH"
      },
      "execution_count": null,
      "outputs": []
    },
    {
      "cell_type": "code",
      "source": [
        "# print(np.mean(accuracy_fashion))\n",
        "# print(np.var(accuracy_fashion))\n",
        "# plt.plot(accuracy_fashion, label = 'mean:0.76, var:0.00002')\n",
        "# plt.legend(loc='upper right', bbox_to_anchor = (1,1.25))\n",
        "# plt.xlabel('Accuracy')\n",
        "# plt.ylabel('Count')\n",
        "# plt.title('Dropout - Fashion MNIST')\n",
        "# plt.show()"
      ],
      "metadata": {
        "id": "xpLP9nNQLi91"
      },
      "execution_count": 1,
      "outputs": []
    },
    {
      "cell_type": "markdown",
      "source": [
        "# 10 Trials - MNIST"
      ],
      "metadata": {
        "id": "lg8Cp6-O8Wa_"
      }
    },
    {
      "cell_type": "code",
      "source": [
        "mse_mnist = []\n",
        "accuracy_mnist = []\n",
        "err_mnist = []\n",
        "var_mnist = []\n",
        "for i in range(10):\n",
        "  test_loss_total = tf.zeros([1,1], dtype=tf.float32)\n",
        "  test_acc = 0\n",
        "  test_err = 0\n",
        "  test_var = 0\n",
        "  test_ds = tf.data.Dataset.from_tensor_slices((X_test, y_test)).shuffle(25).batch(40)\n",
        "  for inputs, outputs in test_ds:\n",
        "    preds = mlp_on_gpu.forward(inputs)\n",
        "    test_loss_total = test_loss_total + mlp_on_gpu.loss(preds, outputs)\n",
        "    mlp_on_gpu.backward(inputs, outputs)\n",
        "    test_acc = test_acc + compute_acc(preds, outputs)\n",
        "    test_err = test_err + compute_std(preds)[0]\n",
        "    test_var = test_var + compute_std(preds)[1]\n",
        "  mse_mnist.append(np.sum(test_loss_total) / X_test.shape[0])\n",
        "  accuracy_mnist.append(test_acc/len(test_ds))\n",
        "  err_mnist.append(test_err / len(test_ds))\n",
        "  var_mnist.append(test_var/len(test_ds))\n",
        "  print('Number of Trial: {} - Average MSE: {}' .format(i + 1, np.sum(test_loss_total) / X_test.shape[0]))\n",
        "  print('                   - Accuracy: {}' .format(test_acc/len(test_ds)))\n",
        "  print('                   - Standard Error: {}' .format(test_err/len(test_ds)))\n",
        "  print('                   - Variance: {}' .format(test_var/len(test_ds)))\n",
        " \n",
        "print(mse_mnist)\n",
        "print(accuracy_mnist)\n",
        "time_taken = time.time() - time_start\n",
        "\n",
        "print('\\nTotal time taken (in seconds): {:.2f}'.format(time_taken))"
      ],
      "metadata": {
        "id": "jN2ToZnK8YB7"
      },
      "execution_count": 3,
      "outputs": []
    },
    {
      "cell_type": "code",
      "source": [
        "print(np.mean(accuracy_mnist))\n",
        "print(np.var(accuracy_mnist))\n",
        "plt.plot(accuracy_mnist, label = 'mean:0.8011, var:0.000027')\n",
        "plt.legend(loc='upper right', bbox_to_anchor = (1,1.25))\n",
        "plt.xlabel('Accuracy')\n",
        "plt.ylabel('Count')\n",
        "plt.title('Dropout - MNIST')\n",
        "plt.show()"
      ],
      "metadata": {
        "id": "cBCHfUzpRnGQ"
      },
      "execution_count": 4,
      "outputs": []
    },
    {
      "cell_type": "code",
      "source": [
        ""
      ],
      "metadata": {
        "id": "8q4ri9EtWlLa"
      },
      "execution_count": null,
      "outputs": []
    }
  ]
}