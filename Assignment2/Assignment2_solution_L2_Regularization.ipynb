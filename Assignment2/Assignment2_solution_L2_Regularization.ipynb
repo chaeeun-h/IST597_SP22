{
  "cells": [
    {
      "cell_type": "code",
      "execution_count": 1,
      "metadata": {
        "colab": {
          "base_uri": "https://localhost:8080/"
        },
        "id": "PWvDL80f8khB",
        "outputId": "5f0ffe66-b561-44ce-9c51-6c4cf787c376"
      },
      "outputs": [
        {
          "output_type": "stream",
          "name": "stdout",
          "text": [
            "2.8.0\n"
          ]
        }
      ],
      "source": [
        "import os\n",
        "import numpy as np\n",
        "import time\n",
        "import tensorflow as tf\n",
        "import matplotlib.pyplot as plt\n",
        "\n",
        "from tensorflow import keras\n",
        "\n",
        "np.random.seed(9630)\n",
        "tf.random.set_seed(9630)\n",
        "\n",
        "print(tf.__version__)"
      ]
    },
    {
      "cell_type": "code",
      "execution_count": 2,
      "metadata": {
        "colab": {
          "base_uri": "https://localhost:8080/"
        },
        "id": "goNTLx1Y8vMV",
        "outputId": "30531fb5-2bd8-4881-a2c4-af1d7be4c495"
      },
      "outputs": [
        {
          "output_type": "execute_result",
          "data": {
            "text/plain": [
              "[PhysicalDevice(name='/physical_device:GPU:0', device_type='GPU')]"
            ]
          },
          "metadata": {},
          "execution_count": 2
        }
      ],
      "source": [
        "tf.config.list_physical_devices('GPU')"
      ]
    },
    {
      "cell_type": "code",
      "source": [
        "# Load MNIST or FMNIST\n",
        "\n",
        "(X_train, y_train), (X_test, y_test) = tf.keras.datasets.mnist.load_data() \n",
        "(X_train, y_train), (X_test, y_test) = tf.keras.datasets.fashion_mnist.load_data()\n",
        "assert X_train.shape == (60000, 28, 28)\n",
        "assert X_test.shape == (10000, 28, 28)\n",
        "assert y_train.shape == (60000,)\n",
        "assert y_test.shape == (10000,)\n",
        "\n",
        "\n",
        "# Display randomly selected data\n",
        "indices = list(np.random.randint(X_train.shape[0],size=3))\n",
        "for i in range(3):\n",
        "    plt.subplot(1,3,i+1)\n",
        "    plt.imshow(X_train[indices[i]].reshape(28,28), cmap='gray', interpolation='none')\n",
        "    plt.title(\"Index {} Class {}\".format(indices[i], y_train[indices[i]]))\n",
        "    plt.tight_layout()"
      ],
      "metadata": {
        "colab": {
          "base_uri": "https://localhost:8080/",
          "height": 440
        },
        "id": "hZzR1OmDCZh4",
        "outputId": "ad0a3da5-a2d6-4584-e435-a4be68211abd"
      },
      "execution_count": 3,
      "outputs": [
        {
          "output_type": "stream",
          "name": "stdout",
          "text": [
            "Downloading data from https://storage.googleapis.com/tensorflow/tf-keras-datasets/mnist.npz\n",
            "11493376/11490434 [==============================] - 0s 0us/step\n",
            "11501568/11490434 [==============================] - 0s 0us/step\n",
            "Downloading data from https://storage.googleapis.com/tensorflow/tf-keras-datasets/train-labels-idx1-ubyte.gz\n",
            "32768/29515 [=================================] - 0s 0us/step\n",
            "40960/29515 [=========================================] - 0s 0us/step\n",
            "Downloading data from https://storage.googleapis.com/tensorflow/tf-keras-datasets/train-images-idx3-ubyte.gz\n",
            "26427392/26421880 [==============================] - 0s 0us/step\n",
            "26435584/26421880 [==============================] - 0s 0us/step\n",
            "Downloading data from https://storage.googleapis.com/tensorflow/tf-keras-datasets/t10k-labels-idx1-ubyte.gz\n",
            "16384/5148 [===============================================================================================] - 0s 0us/step\n",
            "Downloading data from https://storage.googleapis.com/tensorflow/tf-keras-datasets/t10k-images-idx3-ubyte.gz\n",
            "4423680/4422102 [==============================] - 0s 0us/step\n",
            "4431872/4422102 [==============================] - 0s 0us/step\n"
          ]
        },
        {
          "output_type": "display_data",
          "data": {
            "image/png": "[encoded data removed]",
            "text/plain": [
              "<Figure size 432x288 with 3 Axes>"
            ]
          },
          "metadata": {
            "needs_background": "light"
          }
        }
      ]
    },
    {
      "cell_type": "code",
      "source": [
        "# Split train dataset into train and validation\n",
        "X_val = X_train[50000:60000]\n",
        "X_train = X_train[0:50000]\n",
        "y_val = y_train[50000:60000]\n",
        "y_train = y_train[0:50000]\n",
        "\n",
        "print(\"size of training set is\", str(X_train.shape[0]), \"samples\")\n",
        "print(\"every train example is\", str(X_train.shape[1]), \"by\", str(X_train.shape[2]))\n",
        "\n",
        "print(\"size of validation set is\", str(X_val.shape[0]), \"samples\")\n",
        "print(\"every validation example is\", str(X_val.shape[1]), \"by\", str(X_val.shape[2]))\n",
        "\n",
        "X_train = X_train.reshape(50000, 28*28)\n",
        "X_val = X_val.reshape(10000, 28*28)\n",
        "X_test = X_test.reshape(10000, 28*28)\n",
        "\n",
        "print(\"size of training set is\", str(X_train.shape[0]), \"samples\")\n",
        "print(\"every train example has\", str(X_train.shape[1]), \"features\")\n",
        "\n",
        "print(\"size of validation set is\", str(X_val.shape[0]), \"samples\")\n",
        "print(\"every validation example has\", str(X_val.shape[1]), \"features\")\n",
        "\n",
        "# Split dataset into batches\n",
        "#train_ds = tf.data.Dataset.from_tensor_slices((X_train, y_train)).batch(16)\n",
        "#test_ds = tf.data.Dataset.from_tensor_slices((X_test, y_test)).batch(4)"
      ],
      "metadata": {
        "colab": {
          "base_uri": "https://localhost:8080/"
        },
        "id": "vYA1r_xRCbXK",
        "outputId": "dfb75dbd-7049-4720-f801-5ba7d0c86798"
      },
      "execution_count": 4,
      "outputs": [
        {
          "output_type": "stream",
          "name": "stdout",
          "text": [
            "size of training set is 50000 samples\n",
            "every train example is 28 by 28\n",
            "size of validation set is 10000 samples\n",
            "every validation example is 28 by 28\n",
            "size of training set is 50000 samples\n",
            "every train example has 784 features\n",
            "size of validation set is 10000 samples\n",
            "every validation example has 784 features\n"
          ]
        }
      ]
    },
    {
      "cell_type": "code",
      "source": [
        "#Normalize Data\n",
        "\n",
        "X_train = X_train/255\n",
        "X_val = X_val/255\n",
        "X_test = X_test/255\n",
        "# X_train[0]\n",
        "np.max(X_train)"
      ],
      "metadata": {
        "colab": {
          "base_uri": "https://localhost:8080/"
        },
        "id": "SzPNDEVdCe5m",
        "outputId": "44d3ec5b-ff79-4382-98e2-47d09f1d02e1"
      },
      "execution_count": 5,
      "outputs": [
        {
          "output_type": "execute_result",
          "data": {
            "text/plain": [
              "1.0"
            ]
          },
          "metadata": {},
          "execution_count": 5
        }
      ]
    },
    {
      "cell_type": "code",
      "source": [
        "size_input = X_train.shape[1]\n",
        "size_hidden = 128\n",
        "size_output = 10\n",
        "\n",
        "number_of_train_examples = X_train.shape[0]\n",
        "number_of_test_examples = X_test.shape[0]\n",
        "\n",
        "y_train = tf.keras.utils.to_categorical(y_train, num_classes=10) # Other function is tf.one_hot(y_train,depth=10)\n",
        "y_val = tf.keras.utils.to_categorical(y_val, num_classes=10)\n",
        "y_test = tf.keras.utils.to_categorical(y_test, num_classes=10)\n",
        "print(tf.shape(y_val))"
      ],
      "metadata": {
        "colab": {
          "base_uri": "https://localhost:8080/"
        },
        "id": "vJ5NVG2jCgqk",
        "outputId": "a5a02d70-8d80-4dd4-babc-dbc685638dd9"
      },
      "execution_count": 6,
      "outputs": [
        {
          "output_type": "stream",
          "name": "stdout",
          "text": [
            "tf.Tensor([10000    10], shape=(2,), dtype=int32)\n"
          ]
        }
      ]
    },
    {
      "cell_type": "code",
      "execution_count": 7,
      "metadata": {
        "id": "Th5Cfbv58053"
      },
      "outputs": [],
      "source": [
        "# def mnist_normalize():\n",
        "#   (X_train, y_train), (X_test, y_test) = mnist.load_data()\n",
        "#   X_train = np.reshape(X_train, (X_train.shape[0], 784)) / 255.\n",
        "#   X_test = np.reshape(X_test, (X_test.shape[0], 784)) / 255.\n",
        "#   y_train = tf.keras.utils.to_categorical(y_train)\n",
        "#   y_test = tf.keras.utils.to_categorical(y_test)\n",
        "\n",
        "#   return (X_train, y_train), (X_test, y_test)\n",
        "\n",
        "# def fashion_normalize():\n",
        "#   (X_train, y_train), (X_test, y_test) = fashion_mnist.load_data()\n",
        "#   X_train = np.reshape(X_train, (X_train.shape[0], 784)) / 255.\n",
        "#   X_test = np.reshape(X_test, (X_test.shape[0], 784)) / 255.\n",
        "#   y_train = tf.keras.utils.to_categorical(y_train)\n",
        "#   y_test = tf.keras.utils.to_categorical(y_test)\n",
        "\n",
        "#   return (X_train, y_train), (X_test, y_test)"
      ]
    },
    {
      "cell_type": "code",
      "execution_count": 8,
      "metadata": {
        "id": "FUcIZ_rF83L7"
      },
      "outputs": [],
      "source": [
        "# # Split dataset into batches\n",
        "# # (X_train, y_train), (X_test, y_test) = mnist_normalize()\n",
        "# (X_train, y_train), (X_test, y_test) = fashion_normalize()\n",
        "\n",
        "# train_ds = tf.data.Dataset.from_tensor_slices((X_train, y_train)).batch(16)\n",
        "# test_ds = tf.data.Dataset.from_tensor_slices((X_test, y_test)).batch(4)"
      ]
    },
    {
      "cell_type": "code",
      "execution_count": 9,
      "metadata": {
        "id": "oSeWjfQo85Vh"
      },
      "outputs": [],
      "source": [
        "# Define class to build MLP model\n",
        "class MLP(object):\n",
        "  def __init__(self, size_input, size_hidden, size_output, device = None):\n",
        "    \"\"\"\n",
        "    size_input: int, size of input layer\n",
        "    size_hidden: int, size of hidden layer (2)\n",
        "    size_output: int, size of output layer\n",
        "    device: str or None, either 'cpu' or 'gpu' or None. \n",
        "    If None, the device will automatically decide during Eager Execution ('gpu')\n",
        "    \"\"\"\n",
        "\n",
        "    self.size_input, self.size_hidden, self.size_output, self.device =\\\n",
        "    size_input, size_hidden, size_output, device\n",
        "\n",
        "    # Initialize weights of input layer\n",
        "    self.W0 = tf.Variable(tf.random.normal([self.size_input, self.size_hidden], stddev=0.1))\n",
        "    # Initialize biases for input layer\n",
        "    self.b0 = tf.Variable(tf.random.normal([1, self.size_hidden]))\n",
        "\n",
        "    # Initialize weights between input layer and hidden layer 1\n",
        "    self.W1 = tf.Variable(tf.random.normal([self.size_hidden, self.size_hidden], stddev=0.1))\n",
        "    # Initialize biases for hidden layer 1\n",
        "    self.b1 = tf.Variable(tf.random.normal([1, self.size_hidden]))\n",
        "\n",
        "    # Initialize weights between hidden layer 1 and hidden layer 2\n",
        "    self.W2 = tf.Variable(tf.random.normal([self.size_hidden, self.size_hidden], stddev=0.1))\n",
        "    # Initialize biases for hidden layer 2\n",
        "    self.b2 = tf.Variable(tf.random.normal([1, self.size_hidden]))\n",
        "\n",
        "    # Initialize weights between hidden layer 2 and output layer\n",
        "    self.W3 = tf.Variable(tf.random.normal([self.size_hidden, self.size_output], stddev=0.1))\n",
        "    # Initialize biases for output layer\n",
        "    self.b3 = tf.Variable(tf.random.normal([1, self.size_output]))\n",
        "\n",
        "    # Define variables to be updated during backpropagation\n",
        "    self.variables = [self.W0, self.W1, self.W2, self.W3, self.b0, self.b1, self.b2, self.b3]\n",
        "\n",
        "  def forward(self, X):\n",
        "    \"\"\"\n",
        "    forward pass\n",
        "    X: Tensor, inputs\n",
        "    \"\"\"\n",
        "\n",
        "    if self.device is not None:\n",
        "      with tf.device('gpu:0' if self.device == 'gpu' else 'cpu'):\n",
        "        self.y = self.compute_output(X)\n",
        "    else:\n",
        "      self.y = self.compute_output(X)\n",
        "    return self.y\n",
        "\n",
        "  def loss(self, y_pred, y_true):\n",
        "    \"\"\"\n",
        "    y_pred: Tensor of shape (batch_size, size_output)\n",
        "    y_true: Tensor of shape (batch_size, size_output)\n",
        "    \"\"\"\n",
        "\n",
        "    y_true_tf = tf.cast(tf.reshape(y_true, (-1, self.size_output)), dtype=tf.float32)\n",
        "    y_pred_tf = tf.cast(y_pred, dtype=tf.float32)\n",
        "    return tf.losses.mean_squared_error(y_true_tf, y_pred_tf)\n",
        "\n",
        "  def loss_with_regularization(self, y_pred, y_true, lambd = 0.7):\n",
        "    m = y_true.shape[1]\n",
        "    W0 = self.variables[0]\n",
        "    W1 = self.variables[1]\n",
        "    W2 = self.variables[2]\n",
        "    W3 = self.variables[3]\n",
        "\n",
        "\n",
        "    with tf.GradientTape() as tape:\n",
        "      predicted = self.forward(X_train)\n",
        "      pre_loss = self.loss(predicted, y_train)\n",
        "    # L2_regularization_loss = lambd * (np.sum(np.square(W0)) + np.sum(np.square(W1)) + np.sum(np.square(W2)) + np.sum(np.square(W3))) / (2 * m)\n",
        "    L2_regularization_loss = lambd * (np.sum(np.square(W1)) + np.sum(np.square(W2)) + np.sum(np.square(W3))) / (2 * m)\n",
        "    final_loss = pre_loss + L2_regularization_loss\n",
        "\n",
        "    return final_loss\n",
        "\n",
        "  def backward_with_regularization(self, X_train, y_train):\n",
        "    \"\"\"\n",
        "    backward pass\n",
        "    \"\"\"\n",
        "\n",
        "    optimizer = tf.keras.optimizers.SGD(learning_rate = 3e-5)\n",
        "    with tf.GradientTape() as tape:\n",
        "      predicted = self.forward(X_train)\n",
        "      current_loss = self.loss_with_regularization(predicted, y_train)\n",
        "    grads = tape.gradient(current_loss, self.variables)\n",
        "    optimizer.apply_gradients(zip(grads, self.variables))\n",
        "\n",
        "  def compute_output(self, X):\n",
        "    \"\"\"\n",
        "    Custom method to obtain output tensor during forward pass\n",
        "    \"\"\"\n",
        "\n",
        "    # Cast X to float 32\n",
        "    X_tf = tf.cast(X, dtype=tf.float32)\n",
        "    # Remember to normalize your dataset before moving forward\n",
        "\n",
        "    # Compute values in input layer\n",
        "    what0 = tf.matmul(X_tf, self.W0) + self.b0\n",
        "    hhat0 = tf.nn.relu(what0)\n",
        "\n",
        "    # Compute values in hidden layer 1\n",
        "    what1 = tf.matmul(what0, self.W1) + self.b1\n",
        "    hhat1 = tf.nn.relu(what1)\n",
        "\n",
        "    # Compute values in hidden layer 2\n",
        "    what2 = tf.matmul(hhat1, self.W2) + self.b2\n",
        "    hhat2 = tf.nn.relu(what2)\n",
        "\n",
        "    # Compute output\n",
        "    output = tf.matmul(hhat2, self.W3) + self.b3\n",
        "    output = tf.nn.softmax(output)\n",
        "\n",
        "    # Now consider two things\n",
        "    # First, look at inbuild loss functions if they work with softmax and then change this\n",
        "    # Second, add tf.Softmax(output) and then return this variable\n",
        "    return output"
      ]
    },
    {
      "cell_type": "markdown",
      "metadata": {
        "id": "ofZ8bduA9ACl"
      },
      "source": [
        "#Train Model"
      ]
    },
    {
      "cell_type": "code",
      "execution_count": 10,
      "metadata": {
        "id": "1YNS-5rm8-KN"
      },
      "outputs": [],
      "source": [
        "# Set number of epochs\n",
        "NUM_EPOCHS = 20"
      ]
    },
    {
      "cell_type": "code",
      "execution_count": 11,
      "metadata": {
        "id": "6EXBcqhq9CfU"
      },
      "outputs": [],
      "source": [
        "# def compute_acc(y_pred, y_true):\n",
        "#   maxid = lambda x: np.argmax(x)\n",
        "#   y_pred_max = np.array([maxid(i) for i in y_pred])\n",
        "#   y_true_max = np.array([maxid(j) for j in y_true])\n",
        "#   acc = sum(y_pred_max == y_true_max) / len(y_pred_max)\n",
        "#   return acc"
      ]
    },
    {
      "cell_type": "code",
      "source": [
        "# def compute_std(y_pred):\n",
        "#   y_pred_tf = tf.cast(y_pred, dtype=tf.float32)\n",
        "#   std_dev = np.std(y_pred_tf)\n",
        "#   std_err = std_dev / np.sqrt(len(y_pred_tf))\n",
        "#   variance = std_dev**2\n",
        "#   return std_err, variance"
      ],
      "metadata": {
        "id": "k7gc2jZRs22o"
      },
      "execution_count": 12,
      "outputs": []
    },
    {
      "cell_type": "code",
      "execution_count": null,
      "metadata": {
        "colab": {
          "base_uri": "https://localhost:8080/"
        },
        "id": "emYJFPPz9E-e",
        "outputId": "a46b15e9-99bd-43c4-bb81-0d45d21f82c8"
      },
      "outputs": [
        {
          "output_type": "stream",
          "name": "stdout",
          "text": [
            "\n",
            "Train Accuracy: 0.8786200284957886\n",
            "Number of Epoch = 1 - Average Cross Entropy:= 15542.83264 \n",
            "\n",
            "Validation Accuracy: 0.8618\n",
            "\n",
            "Train Accuracy: 0.8996000289916992\n",
            "Number of Epoch = 2 - Average Cross Entropy:= 16493.66784 \n",
            "\n",
            "Validation Accuracy: 0.8750\n",
            "\n",
            "Train Accuracy: 0.9140999913215637\n",
            "Number of Epoch = 3 - Average Cross Entropy:= 17282.14016 \n",
            "\n",
            "Validation Accuracy: 0.8795\n"
          ]
        }
      ],
      "source": [
        "# Initialize model using GPU\n",
        "mlp_on_gpu = MLP(size_input, size_hidden, size_output, device = 'gpu')\n",
        "time_start = time.time()\n",
        "\n",
        "for epoch in range(NUM_EPOCHS):\n",
        "  loss_total = tf.zeros([1,1], dtype=tf.float32)\n",
        "  lt = 0\n",
        "\n",
        "  train_ds = tf.data.Dataset.from_tensor_slices((X_train, y_train)).shuffle(25, seed=epoch*(9630)).batch(40)\n",
        "  kz = 0\n",
        "  accuracy_z = 0.0\n",
        "  cur_train_acc = 0.0\n",
        "\n",
        "  for inputs, outputs in train_ds:\n",
        "    qw, tr = tf.shape(inputs)\n",
        "    kz = kz + 1\n",
        "    preds = mlp_on_gpu.forward(inputs)\n",
        "    loss_total = loss_total + mlp_on_gpu.loss_with_regularization(preds, outputs)\n",
        "    mlp_on_gpu.backward_with_regularization(inputs, outputs)\n",
        "\n",
        "  preds = mlp_on_gpu.forward(X_train)\n",
        "  preds = tf.nn.softmax(preds)\n",
        "  correct_prediction = tf.equal(tf.argmax(preds, 1), tf.argmax(y_train, 1))\n",
        "  accuracy_z = accuracy_z + tf.reduce_mean(tf.cast(correct_prediction, 'float'))\n",
        "  cur_train_acc += accuracy_z.numpy()\n",
        "  ds = cur_train_acc\n",
        "  print('\\nTrain Accuracy: {}'.format(ds))\n",
        "  print('Number of Epoch = {} - Average Cross Entropy:= {} '.format(epoch + 1, np.sum(loss_total) / X_train.shape[0]))\n",
        "\n",
        "  preds_val = mlp_on_gpu.forward(X_val)\n",
        "  preds_val = tf.nn.softmax(preds_val)\n",
        "  correct_prediction = tf.equal(tf.argmax(preds_val, 1), tf.argmax(y_val, 1))\n",
        "\n",
        "  # Calculate accuracy\n",
        "  accuracy = tf.reduce_mean(tf.cast(correct_prediction, 'float'))\n",
        "  cur_val_acc = accuracy.numpy()\n",
        "\n",
        "  print('\\nValidation Accuracy: {:.4f}'.format(cur_val_acc))\n",
        "  plt.plot(epoch + 1, np.sum(loss_total) / X_train.shape[0], 'go')\n",
        " \n",
        "time_taken = time.time() - time_start\n",
        "\n",
        "print('\\nTotal time taken (in seconds): {:.2f}'.format(time_taken))\n",
        "# For per epoch_time\n",
        "# epoch_time = Total time / Number of epochs"
      ]
    },
    {
      "cell_type": "markdown",
      "metadata": {
        "id": "D5-xBFUc9GgZ"
      },
      "source": [
        "#Test Model"
      ]
    },
    {
      "cell_type": "code",
      "execution_count": null,
      "metadata": {
        "id": "tQO42uif9HN5",
        "colab": {
          "base_uri": "https://localhost:8080/"
        },
        "outputId": "f7003f75-451f-4831-f402-de9987af4bb8"
      },
      "outputs": [
        {
          "output_type": "stream",
          "name": "stdout",
          "text": [
            "Test MSE: 0.0260\n",
            "Accuracy: 0.8694\n"
          ]
        }
      ],
      "source": [
        "test_loss_total = tf.Variable(0, dtype=tf.float32)\n",
        "correct_prediction = tf.Variable(0, dtype=tf.float32)\n",
        "\n",
        "test_ds = tf.data.Dataset.from_tensor_slices((X_test, y_test)).batch(4)\n",
        "\n",
        "\n",
        "for inputs, outputs in test_ds:\n",
        "  preds = mlp_on_gpu.forward(inputs)\n",
        "  # b = mlp_on_gpu.loss(preds, outputs)\n",
        "  test_loss_total = test_loss_total + mlp_on_gpu.loss(preds, outputs)\n",
        "print('Test loss: {:.4f}'.format(np.sum(test_loss_total.numpy()) / X_test.shape[0]))\n",
        "\n",
        "\n",
        "# Test model\n",
        "preds_test = mlp_on_gpu.forward(X_test)\n",
        "preds_test = tf.nn.softmax(preds_test)\n",
        "correct_prediction = tf.equal(tf.argmax(preds_test, 1), tf.argmax(y_test, 1))\n",
        "\n",
        "\n",
        "# Calculate accuracy\n",
        "accuracy = tf.reduce_mean(tf.cast(correct_prediction, \"float\"))\n",
        "cur_test_acc = accuracy.numpy()\n",
        "print('\\nTest Accuracy: {:.2f}'.format(cur_test_acc))"
      ]
    },
    {
      "cell_type": "code",
      "source": [
        ""
      ],
      "metadata": {
        "id": "Dhka44BelfvU"
      },
      "execution_count": null,
      "outputs": []
    }
  ],
  "metadata": {
    "accelerator": "GPU",
    "colab": {
      "machine_shape": "hm",
      "name": "Assignment2_solution_L2_Regularization.ipynb",
      "provenance": [],
      "collapsed_sections": []
    },
    "kernelspec": {
      "display_name": "Python 3",
      "name": "python3"
    },
    "language_info": {
      "name": "python"
    }
  },
  "nbformat": 4,
  "nbformat_minor": 0
}